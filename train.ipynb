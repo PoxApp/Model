{
 "cells": [
  {
   "cell_type": "code",
   "execution_count": null,
   "id": "86a8ebc5",
   "metadata": {
    "scrolled": false
   },
   "outputs": [],
   "source": [
    "list_weights = [0.005, 0.01, 0.1, 0.2, 0.4, 0.5, 1]\n",
    "epoch1 = 20\n",
    "epoch2 = 1\n",
    "validation_percentage = 0.2"
   ]
  },
  {
   "cell_type": "code",
   "execution_count": null,
   "id": "06011a8d",
   "metadata": {
    "scrolled": false
   },
   "outputs": [],
   "source": [
    "import pandas as pd\n",
    "import random\n",
    "import pickle\n",
    "from fastai.vision.all import *\n",
    "from fastai.vision.core import *\n",
    "from fastai.callback.all import *\n",
    "from fastai.metrics import *"
   ]
  },
  {
   "cell_type": "code",
   "execution_count": null,
   "id": "99eeb909",
   "metadata": {},
   "outputs": [],
   "source": [
    "# read dataframe of skin lesion images\n",
    "with open(r\"df_data_all.pkl\", \"rb\") as input_file:\n",
    "    df_data_all = pickle.load(input_file)"
   ]
  },
  {
   "cell_type": "code",
   "execution_count": null,
   "id": "583782c4",
   "metadata": {
    "scrolled": false
   },
   "outputs": [],
   "source": [
    "def get_train(validation_percentage):\n",
    "    train = df_data_all[df_data_all.test == False].copy()\n",
    "    train = train[[\"mpx\",\"reference\",\"filename\"]].copy()\n",
    "    for index, row in train.iterrows():\n",
    "        if(row[\"mpx\"] == 1):\n",
    "            train.at[index,\"label2\"] = \"m\"\n",
    "        else:\n",
    "            train.at[index,\"label2\"] = \"n\"\n",
    "    train = add_validation(train,validation_percentage)\n",
    "    return train\n",
    "\n",
    "def add_validation2(df, validation_percentage):\n",
    "    df[\"is_valid\"] = 0\n",
    "    num_pictures = len(df.index);\n",
    "    while(len(df[df[\"is_valid\"]==1]) < num_pictures*validation_percentage):\n",
    "        index = int(random.random()*num_pictures);\n",
    "        df.iloc[index, df.columns.get_loc('is_valid')] = 1\n",
    "        filename = df.iloc[index, df.columns.get_loc('is_valid')]\n",
    "        if(pd.isna(df.iloc[index, df.columns.get_loc('reference')]) == False):\n",
    "            reference = df.iloc[index, df.columns.get_loc('reference')]\n",
    "            df.loc[df['reference'] == reference, \"is_valid\"] = 1\n",
    "    return df\n",
    "    \n",
    "def add_validation(df, validation_percentage):\n",
    "    df_m = df[df[\"label2\"].str.contains(\"m\")].copy()\n",
    "    df_n = df[df[\"label2\"].str.contains(\"n\")].copy()\n",
    "    df_m = add_validation2(df_m, validation_percentage)\n",
    "    df_n = add_validation2(df_n, validation_percentage)\n",
    "    return pd.concat([df_m, df_n], ignore_index=True)\n",
    "\n",
    "def get_dataloader(validation_percentage):\n",
    "    train = get_train(validation_percentage)\n",
    "    db = DataBlock(blocks=(ImageBlock, CategoryBlock),\n",
    "                       splitter=ColSplitter(),\n",
    "                       get_x=ColReader(\"filename\"),\n",
    "                       get_y=ColReader(\"label2\"),\n",
    "                       item_tfms=Resize(224*2))\n",
    "    db = db.new(item_tfms=RandomResizedCrop(224, min_scale=0.5),batch_tfms=aug_transforms(max_rotate=360))\n",
    "    dls = db.dataloaders(train)\n",
    "    return dls, train\n",
    "\n",
    "def get_learn(weight, epoch1, epoch2):\n",
    "    learn = vision_learner(dls, resnet34, metrics=error_rate)\n",
    "    weights = [1, weight]\n",
    "    class_weights=torch.FloatTensor(weights).cuda()\n",
    "    learn.loss_func = CrossEntropyLossFlat(weight=class_weights)\n",
    "    learn.fine_tune(epoch1,freeze_epochs=epoch2)\n",
    "    return learn\n"
   ]
  },
  {
   "cell_type": "code",
   "execution_count": null,
   "id": "3ca4721b",
   "metadata": {
    "scrolled": true
   },
   "outputs": [],
   "source": [
    "dls, train = get_dataloader(validation_percentage)\n",
    "\n",
    "for weight in list_weights:\n",
    "    learn = get_learn(weight, epoch1, epoch2)"
   ]
  },
  {
   "cell_type": "code",
   "execution_count": null,
   "id": "477af717",
   "metadata": {},
   "outputs": [],
   "source": []
  }
 ],
 "metadata": {
  "kernelspec": {
   "display_name": "Python [conda env:mpxv] *",
   "language": "python",
   "name": "conda-env-mpxv-py"
  },
  "language_info": {
   "codemirror_mode": {
    "name": "ipython",
    "version": 3
   },
   "file_extension": ".py",
   "mimetype": "text/x-python",
   "name": "python",
   "nbconvert_exporter": "python",
   "pygments_lexer": "ipython3",
   "version": "3.7.13"
  }
 },
 "nbformat": 4,
 "nbformat_minor": 5
}
